{
 "cells": [
  {
   "cell_type": "code",
   "execution_count": 4,
   "metadata": {},
   "outputs": [
    {
     "name": "stdout",
     "output_type": "stream",
     "text": [
      "Collecting graphviz\n",
      "  Downloading graphviz-0.20.3-py3-none-any.whl.metadata (12 kB)\n",
      "Downloading graphviz-0.20.3-py3-none-any.whl (47 kB)\n",
      "Installing collected packages: graphviz\n",
      "Successfully installed graphviz-0.20.3\n"
     ]
    }
   ],
   "source": [
    "!pip3 install graphviz --break-system-packages"
   ]
  },
  {
   "cell_type": "code",
   "execution_count": null,
   "metadata": {},
   "outputs": [
    {
     "data": {
      "text/plain": [
       "'genpilot_mcp_architecture.png'"
      ]
     },
     "execution_count": 7,
     "metadata": {},
     "output_type": "execute_result"
    }
   ],
   "source": [
    "from graphviz import Digraph\n",
    "\n",
    "# 创建一个有向图\n",
    "dot = Digraph(comment='Genpilot MCP Architecture', format='png')\n",
    "\n",
    "# 添加节点\n",
    "dot.node('User', '用户')\n",
    "dot.node('Agent', '主Agent')\n",
    "dot.node('Tools', '工具')\n",
    "dot.node('Memory', '内存')\n",
    "dot.node('LiteLLMLayer', 'LiteLLM 适配层')\n",
    "dot.node('Bedrock', 'AWS Bedrock')\n",
    "dot.node('OtherLLM', '其他模型')\n",
    "dot.node('ToolRegistry', '工具注册表')\n",
    "dot.node('ToolValidator', '工具验证器')\n",
    "dot.node('ToolExecutor', '工具执行器')\n",
    "dot.node('MessageHistory', '消息历史')\n",
    "dot.node('ContextRetrieval', '上下文检索')\n",
    "dot.node('Protocol', 'MCP协议')\n",
    "dot.node('ErrorHandling', '错误处理')\n",
    "dot.node('Retry', '重试机制')\n",
    "dot.node('Cache', '缓存')\n",
    "dot.node('Logging', '日志')\n",
    "\n",
    "# 添加边\n",
    "dot.edge('User', 'Agent', label='输入请求')\n",
    "dot.edge('Agent', 'Tools', label='工具调用')\n",
    "dot.edge('Agent', 'Memory', label='上下文管理')\n",
    "dot.edge('Agent', 'LiteLLMLayer', label='模型调用')\n",
    "dot.edge('LiteLLMLayer', 'Bedrock', label='Bedrock')\n",
    "dot.edge('LiteLLMLayer', 'OtherLLM', label='其他')\n",
    "dot.edge('LiteLLMLayer', 'ErrorHandling', label='')\n",
    "dot.edge('LiteLLMLayer', 'Retry', label='')\n",
    "dot.edge('LiteLLMLayer', 'Cache', label='')\n",
    "dot.edge('LiteLLMLayer', 'Logging', label='')\n",
    "dot.edge('Tools', 'ToolRegistry', label='注册')\n",
    "dot.edge('Tools', 'ToolValidator', label='验证')\n",
    "dot.edge('Tools', 'ToolExecutor', label='执行')\n",
    "dot.edge('Memory', 'MessageHistory', label='存储')\n",
    "dot.edge('Memory', 'ContextRetrieval', label='检索')\n",
    "dot.edge('ToolRegistry', 'Protocol', label='标准化')\n",
    "dot.edge('Memory', 'Protocol', label='格式化')\n",
    "dot.edge('LiteLLMLayer', 'Protocol', label='适配')\n",
    "\n",
    "# 保存图像\n",
    "dot.render('genpilot_mcp_architecture', view=True)\n"
   ]
  }
 ],
 "metadata": {
  "kernelspec": {
   "display_name": "Python 3",
   "language": "python",
   "name": "python3"
  },
  "language_info": {
   "codemirror_mode": {
    "name": "ipython",
    "version": 3
   },
   "file_extension": ".py",
   "mimetype": "text/x-python",
   "name": "python",
   "nbconvert_exporter": "python",
   "pygments_lexer": "ipython3",
   "version": "3.13.2"
  }
 },
 "nbformat": 4,
 "nbformat_minor": 2
}
