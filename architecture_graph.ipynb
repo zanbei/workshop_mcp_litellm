{
 "cells": [
  {
   "cell_type": "code",
   "execution_count": 4,
   "metadata": {},
   "outputs": [
    {
     "name": "stdout",
     "output_type": "stream",
     "text": [
      "Collecting graphviz\n",
      "  Downloading graphviz-0.20.3-py3-none-any.whl.metadata (12 kB)\n",
      "Downloading graphviz-0.20.3-py3-none-any.whl (47 kB)\n",
      "Installing collected packages: graphviz\n",
      "Successfully installed graphviz-0.20.3\n"
     ]
    }
   ],
   "source": [
    "!pip3 install graphviz --break-system-packages"
   ]
  },
  {
   "cell_type": "code",
   "execution_count": 4,
   "metadata": {},
   "outputs": [
    {
     "data": {
      "text/plain": [
       "'genpilot_mcp_architecture_updated.png'"
      ]
     },
     "execution_count": 4,
     "metadata": {},
     "output_type": "execute_result"
    }
   ],
   "source": [
    "from graphviz import Digraph\n",
    "\n",
    "def create_genpilot_mcp_architecture():\n",
    "    dot = Digraph()\n",
    "\n",
    "    # Define nodes\n",
    "    dot.node('User', '用户')\n",
    "    dot.node('TravellerAgent', 'Traveller Agent\\n主代理')\n",
    "    dot.node('WeatherAgent', 'Weather Observer\\n天气观察者代理')\n",
    "    dot.node('AdvisorAgent', 'Local Advisor\\n时尚顾问代理')\n",
    "    dot.node('GetWeather', 'get_weather工具')\n",
    "    dot.node('GetFashion', 'get_fashion_advice工具')\n",
    "    dot.node('FinalAnswer', 'final_answer工具')\n",
    "    dot.node('LiteLLMLayer', 'LiteLLM适配层')\n",
    "    dot.node('Bedrock', 'AWS Bedrock')\n",
    "    dot.node('ToolRegistry', '工具注册表')\n",
    "    dot.node('Protocol', 'MCP协议')\n",
    "\n",
    "    # Define edges\n",
    "    dot.edge('User', 'TravellerAgent', '问询')\n",
    "    dot.edge('TravellerAgent', 'WeatherAgent', '天气查询')\n",
    "    dot.edge('TravellerAgent', 'AdvisorAgent', '时尚建议')\n",
    "    dot.edge('WeatherAgent', 'GetWeather', '使用')\n",
    "    dot.edge('AdvisorAgent', 'GetFashion', '使用')\n",
    "    dot.edge('TravellerAgent', 'FinalAnswer', '最终答案')\n",
    "    dot.edge('TravellerAgent', 'LiteLLMLayer', '模型调用')\n",
    "    dot.edge('WeatherAgent', 'LiteLLMLayer', '模型调用')\n",
    "    dot.edge('AdvisorAgent', 'LiteLLMLayer', '模型调用')\n",
    "    dot.edge('LiteLLMLayer', 'Bedrock', '统一接口')\n",
    "    dot.edge('GetWeather', 'ToolRegistry', '注册')\n",
    "    dot.edge('GetFashion', 'ToolRegistry', '注册')\n",
    "    dot.edge('FinalAnswer', 'ToolRegistry', '注册')\n",
    "    dot.edge('ToolRegistry', 'Protocol', '标准化')\n",
    "    dot.edge('LiteLLMLayer', 'Protocol', '适配')\n",
    "\n",
    "    return dot\n",
    "\n",
    "# Generate the diagram\n",
    "genpilot_mcp_architecture = create_genpilot_mcp_architecture()\n",
    "genpilot_mcp_architecture.render('genpilot_mcp_architecture_updated', format='png', cleanup=True)"
   ]
  }
 ],
 "metadata": {
  "kernelspec": {
   "display_name": "Python 3",
   "language": "python",
   "name": "python3"
  },
  "language_info": {
   "codemirror_mode": {
    "name": "ipython",
    "version": 3
   },
   "file_extension": ".py",
   "mimetype": "text/x-python",
   "name": "python",
   "nbconvert_exporter": "python",
   "pygments_lexer": "ipython3",
   "version": "3.13.2"
  }
 },
 "nbformat": 4,
 "nbformat_minor": 2
}
